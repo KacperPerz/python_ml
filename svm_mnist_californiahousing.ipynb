{
 "cells": [
  {
   "cell_type": "markdown",
   "metadata": {},
   "source": [
    "# Klasyfikator SVM wobec MNIST"
   ]
  },
  {
   "cell_type": "markdown",
   "metadata": {},
   "source": [
    "**1. Przygotowanie danych**"
   ]
  },
  {
   "cell_type": "code",
   "execution_count": 1,
   "metadata": {},
   "outputs": [],
   "source": [
    "from sklearn.datasets import fetch_openml\n",
    "mnist = fetch_openml('mnist_784', version=1, cache=True)\n",
    "\n",
    "X = mnist[\"data\"]\n",
    "y = mnist[\"target\"]\n",
    "\n",
    "X_train = X[:60000]\n",
    "y_train = y[:60000]\n",
    "X_test = X[60000:]\n",
    "y_test = y[60000:]"
   ]
  },
  {
   "cell_type": "markdown",
   "metadata": {},
   "source": [
    "**2. Skalowanie cech**"
   ]
  },
  {
   "cell_type": "code",
   "execution_count": 2,
   "metadata": {},
   "outputs": [],
   "source": [
    "from sklearn.svm import SVC\n",
    "from sklearn.pipeline import Pipeline\n",
    "from sklearn.preprocessing import StandardScaler\n",
    "import numpy as np\n",
    "\n",
    "#pipe = Pipeline([\n",
    "#    ('scaler', StandardScaler()),\n",
    "#    ('svm_clf', svm_clf)\n",
    "#])\n",
    "\n",
    "scal = StandardScaler()\n",
    "X_train_scalled = scal.fit_transform(X_train.astype(np.float32))\n",
    "X_test_scalled = scal.fit_transform(X_test.astype(np.float32))"
   ]
  },
  {
   "cell_type": "code",
   "execution_count": 3,
   "metadata": {},
   "outputs": [
    {
     "data": {
      "text/plain": [
       "SVC()"
      ]
     },
     "execution_count": 3,
     "metadata": {},
     "output_type": "execute_result"
    }
   ],
   "source": [
    "svm_clf = SVC(kernel='rbf') #od O(n^2*m) do O(n^3*m) więc ograniczam liczbę przykładów\n",
    "svm_clf.fit(X_train_scalled[:10000], y_train[:10000])"
   ]
  },
  {
   "cell_type": "code",
   "execution_count": 4,
   "metadata": {},
   "outputs": [
    {
     "data": {
      "text/plain": [
       "0.9455333333333333"
      ]
     },
     "execution_count": 4,
     "metadata": {},
     "output_type": "execute_result"
    }
   ],
   "source": [
    "from sklearn.metrics import accuracy_score\n",
    "\n",
    "y_pred = svm_clf.predict(X_train_scalled)\n",
    "accuracy_score(y_train, y_pred) # ~ 94.5% dokładności na zbiorze treningowym"
   ]
  },
  {
   "cell_type": "markdown",
   "metadata": {},
   "source": [
    "**3. Dostrajanie modelu**"
   ]
  },
  {
   "cell_type": "code",
   "execution_count": 5,
   "metadata": {},
   "outputs": [
    {
     "name": "stdout",
     "output_type": "stream",
     "text": [
      "Fitting 3 folds for each of 10 candidates, totalling 30 fits\n",
      "[CV] gamma=0.005, C=10 ...............................................\n"
     ]
    },
    {
     "name": "stderr",
     "output_type": "stream",
     "text": [
      "[Parallel(n_jobs=1)]: Using backend SequentialBackend with 1 concurrent workers.\n"
     ]
    },
    {
     "name": "stdout",
     "output_type": "stream",
     "text": [
      "[CV] ................................ gamma=0.005, C=10, total=   2.1s\n",
      "[CV] gamma=0.005, C=10 ...............................................\n"
     ]
    },
    {
     "name": "stderr",
     "output_type": "stream",
     "text": [
      "[Parallel(n_jobs=1)]: Done   1 out of   1 | elapsed:    2.0s remaining:    0.0s\n"
     ]
    },
    {
     "name": "stdout",
     "output_type": "stream",
     "text": [
      "[CV] ................................ gamma=0.005, C=10, total=   2.1s\n",
      "[CV] gamma=0.005, C=10 ...............................................\n",
      "[CV] ................................ gamma=0.005, C=10, total=   2.1s\n",
      "[CV] gamma=0.002, C=5 ................................................\n",
      "[CV] ................................. gamma=0.002, C=5, total=   1.7s\n",
      "[CV] gamma=0.002, C=5 ................................................\n",
      "[CV] ................................. gamma=0.002, C=5, total=   1.7s\n",
      "[CV] gamma=0.002, C=5 ................................................\n",
      "[CV] ................................. gamma=0.002, C=5, total=   1.7s\n",
      "[CV] gamma=0.001, C=2 ................................................\n",
      "[CV] ................................. gamma=0.001, C=2, total=   1.2s\n",
      "[CV] gamma=0.001, C=2 ................................................\n",
      "[CV] ................................. gamma=0.001, C=2, total=   1.2s\n",
      "[CV] gamma=0.001, C=2 ................................................\n",
      "[CV] ................................. gamma=0.001, C=2, total=   1.2s\n",
      "[CV] gamma=0.001, C=3 ................................................\n",
      "[CV] ................................. gamma=0.001, C=3, total=   1.2s\n",
      "[CV] gamma=0.001, C=3 ................................................\n",
      "[CV] ................................. gamma=0.001, C=3, total=   1.2s\n",
      "[CV] gamma=0.001, C=3 ................................................\n",
      "[CV] ................................. gamma=0.001, C=3, total=   1.2s\n",
      "[CV] gamma=0.002, C=2 ................................................\n",
      "[CV] ................................. gamma=0.002, C=2, total=   1.7s\n",
      "[CV] gamma=0.002, C=2 ................................................\n",
      "[CV] ................................. gamma=0.002, C=2, total=   1.6s\n",
      "[CV] gamma=0.002, C=2 ................................................\n",
      "[CV] ................................. gamma=0.002, C=2, total=   1.6s\n",
      "[CV] gamma=0.003, C=5 ................................................\n",
      "[CV] ................................. gamma=0.003, C=5, total=   1.9s\n",
      "[CV] gamma=0.003, C=5 ................................................\n",
      "[CV] ................................. gamma=0.003, C=5, total=   1.8s\n",
      "[CV] gamma=0.003, C=5 ................................................\n",
      "[CV] ................................. gamma=0.003, C=5, total=   1.8s\n",
      "[CV] gamma=0.003, C=10 ...............................................\n",
      "[CV] ................................ gamma=0.003, C=10, total=   1.9s\n",
      "[CV] gamma=0.003, C=10 ...............................................\n",
      "[CV] ................................ gamma=0.003, C=10, total=   1.9s\n",
      "[CV] gamma=0.003, C=10 ...............................................\n",
      "[CV] ................................ gamma=0.003, C=10, total=   1.8s\n",
      "[CV] gamma=0.002, C=3 ................................................\n",
      "[CV] ................................. gamma=0.002, C=3, total=   1.7s\n",
      "[CV] gamma=0.002, C=3 ................................................\n",
      "[CV] ................................. gamma=0.002, C=3, total=   1.6s\n",
      "[CV] gamma=0.002, C=3 ................................................\n",
      "[CV] ................................. gamma=0.002, C=3, total=   1.7s\n",
      "[CV] gamma=0.002, C=10 ...............................................\n",
      "[CV] ................................ gamma=0.002, C=10, total=   1.7s\n",
      "[CV] gamma=0.002, C=10 ...............................................\n",
      "[CV] ................................ gamma=0.002, C=10, total=   1.7s\n",
      "[CV] gamma=0.002, C=10 ...............................................\n",
      "[CV] ................................ gamma=0.002, C=10, total=   1.7s\n",
      "[CV] gamma=0.001, C=5 ................................................\n",
      "[CV] ................................. gamma=0.001, C=5, total=   1.2s\n",
      "[CV] gamma=0.001, C=5 ................................................\n",
      "[CV] ................................. gamma=0.001, C=5, total=   1.2s\n",
      "[CV] gamma=0.001, C=5 ................................................\n",
      "[CV] ................................. gamma=0.001, C=5, total=   1.2s\n"
     ]
    },
    {
     "name": "stderr",
     "output_type": "stream",
     "text": [
      "[Parallel(n_jobs=1)]: Done  30 out of  30 | elapsed:   48.1s finished\n"
     ]
    },
    {
     "data": {
      "text/plain": [
       "RandomizedSearchCV(cv=3, estimator=SVC(),\n",
       "                   param_distributions={'C': [2, 3, 5, 10],\n",
       "                                        'gamma': [0.002, 0.003, 0.005, 0.001]},\n",
       "                   verbose=2)"
      ]
     },
     "execution_count": 5,
     "metadata": {},
     "output_type": "execute_result"
    }
   ],
   "source": [
    "from sklearn.model_selection import RandomizedSearchCV\n",
    "from scipy.stats import uniform,reciprocal\n",
    "\n",
    "params = {\"C\": [2,3,5,10], \"gamma\": [0.002, 0.003, 0.005, 0.001] }\n",
    "rnd_cv = RandomizedSearchCV(estimator=svm_clf, param_distributions=params, n_iter=10, cv=3, verbose=2)\n",
    "rnd_cv.fit(X_train_scalled[:1500], y_train[:1500])"
   ]
  },
  {
   "cell_type": "code",
   "execution_count": 6,
   "metadata": {},
   "outputs": [
    {
     "name": "stdout",
     "output_type": "stream",
     "text": [
      "SVC(C=3, gamma=0.001)\n",
      "0.8606666666666666\n"
     ]
    }
   ],
   "source": [
    "#najlepszy model\n",
    "print(rnd_cv.best_estimator_)\n",
    "print(rnd_cv.best_score_)"
   ]
  },
  {
   "cell_type": "markdown",
   "metadata": {},
   "source": [
    "Mając najlepszy model można łatwo wykorzystać go do predykcji zarówno zbioru treningowego jak i testowego."
   ]
  },
  {
   "cell_type": "code",
   "execution_count": null,
   "metadata": {},
   "outputs": [],
   "source": [
    "rnd_cv.best_estimator_.fit(X_train_scalled, y_train) #lepiej nie załączać\n",
    "#warto też sprawdzić model dla hiperparametrów C = 5, gamma = 0.005"
   ]
  },
  {
   "cell_type": "code",
   "execution_count": null,
   "metadata": {},
   "outputs": [],
   "source": [
    "y_pred = rnd_search_cv.best_estimator_.predict(X_train_scalled)\n",
    "accuracy_score(y_train, y_pred)\n",
    "\n",
    "y_pred = rnd_search_cv.best_estimator_.predict(X_test_scaled)\n",
    "accuracy_score(y_test, y_pred)"
   ]
  },
  {
   "cell_type": "markdown",
   "metadata": {},
   "source": [
    "# SVM wobec zbioru danych California housing"
   ]
  },
  {
   "cell_type": "markdown",
   "metadata": {},
   "source": [
    "**1. Przygotowanie danych**"
   ]
  },
  {
   "cell_type": "code",
   "execution_count": 41,
   "metadata": {},
   "outputs": [],
   "source": [
    "from sklearn.datasets import fetch_california_housing\n",
    "from sklearn.svm import SVC\n",
    "import numpy as np\n",
    "\n",
    "housing = fetch_california_housing()\n",
    "X = housing[\"data\"]\n",
    "y = housing[\"target\"]"
   ]
  },
  {
   "cell_type": "code",
   "execution_count": 42,
   "metadata": {},
   "outputs": [
    {
     "name": "stdout",
     "output_type": "stream",
     "text": [
      ".. _california_housing_dataset:\n",
      "\n",
      "California Housing dataset\n",
      "--------------------------\n",
      "\n",
      "**Data Set Characteristics:**\n",
      "\n",
      "    :Number of Instances: 20640\n",
      "\n",
      "    :Number of Attributes: 8 numeric, predictive attributes and the target\n",
      "\n",
      "    :Attribute Information:\n",
      "        - MedInc        median income in block\n",
      "        - HouseAge      median house age in block\n",
      "        - AveRooms      average number of rooms\n",
      "        - AveBedrms     average number of bedrooms\n",
      "        - Population    block population\n",
      "        - AveOccup      average house occupancy\n",
      "        - Latitude      house block latitude\n",
      "        - Longitude     house block longitude\n",
      "\n",
      "    :Missing Attribute Values: None\n",
      "\n",
      "This dataset was obtained from the StatLib repository.\n",
      "http://lib.stat.cmu.edu/datasets/\n",
      "\n",
      "The target variable is the median house value for California districts.\n",
      "\n",
      "This dataset was derived from the 1990 U.S. census, using one row per census\n",
      "block group. A block group is the smallest geographical unit for which the U.S.\n",
      "Census Bureau publishes sample data (a block group typically has a population\n",
      "of 600 to 3,000 people).\n",
      "\n",
      "It can be downloaded/loaded using the\n",
      ":func:`sklearn.datasets.fetch_california_housing` function.\n",
      "\n",
      ".. topic:: References\n",
      "\n",
      "    - Pace, R. Kelley and Ronald Barry, Sparse Spatial Autoregressions,\n",
      "      Statistics and Probability Letters, 33 (1997) 291-297\n",
      "\n"
     ]
    }
   ],
   "source": [
    "print(housing['DESCR'])"
   ]
  },
  {
   "cell_type": "code",
   "execution_count": 43,
   "metadata": {},
   "outputs": [
    {
     "data": {
      "text/html": [
       "<div>\n",
       "<style scoped>\n",
       "    .dataframe tbody tr th:only-of-type {\n",
       "        vertical-align: middle;\n",
       "    }\n",
       "\n",
       "    .dataframe tbody tr th {\n",
       "        vertical-align: top;\n",
       "    }\n",
       "\n",
       "    .dataframe thead th {\n",
       "        text-align: right;\n",
       "    }\n",
       "</style>\n",
       "<table border=\"1\" class=\"dataframe\">\n",
       "  <thead>\n",
       "    <tr style=\"text-align: right;\">\n",
       "      <th></th>\n",
       "      <th>MedInc</th>\n",
       "      <th>HouseAge</th>\n",
       "      <th>AveRooms</th>\n",
       "      <th>AveBedrms</th>\n",
       "      <th>Population</th>\n",
       "      <th>AveOccup</th>\n",
       "      <th>Latitude</th>\n",
       "      <th>Longitude</th>\n",
       "    </tr>\n",
       "  </thead>\n",
       "  <tbody>\n",
       "    <tr>\n",
       "      <th>count</th>\n",
       "      <td>20640.000000</td>\n",
       "      <td>20640.000000</td>\n",
       "      <td>20640.000000</td>\n",
       "      <td>20640.000000</td>\n",
       "      <td>20640.000000</td>\n",
       "      <td>20640.000000</td>\n",
       "      <td>20640.000000</td>\n",
       "      <td>20640.000000</td>\n",
       "    </tr>\n",
       "    <tr>\n",
       "      <th>mean</th>\n",
       "      <td>3.870671</td>\n",
       "      <td>28.639486</td>\n",
       "      <td>5.429000</td>\n",
       "      <td>1.096675</td>\n",
       "      <td>1425.476744</td>\n",
       "      <td>3.070655</td>\n",
       "      <td>35.631861</td>\n",
       "      <td>-119.569704</td>\n",
       "    </tr>\n",
       "    <tr>\n",
       "      <th>std</th>\n",
       "      <td>1.899822</td>\n",
       "      <td>12.585558</td>\n",
       "      <td>2.474173</td>\n",
       "      <td>0.473911</td>\n",
       "      <td>1132.462122</td>\n",
       "      <td>10.386050</td>\n",
       "      <td>2.135952</td>\n",
       "      <td>2.003532</td>\n",
       "    </tr>\n",
       "    <tr>\n",
       "      <th>min</th>\n",
       "      <td>0.499900</td>\n",
       "      <td>1.000000</td>\n",
       "      <td>0.846154</td>\n",
       "      <td>0.333333</td>\n",
       "      <td>3.000000</td>\n",
       "      <td>0.692308</td>\n",
       "      <td>32.540000</td>\n",
       "      <td>-124.350000</td>\n",
       "    </tr>\n",
       "    <tr>\n",
       "      <th>25%</th>\n",
       "      <td>2.563400</td>\n",
       "      <td>18.000000</td>\n",
       "      <td>4.440716</td>\n",
       "      <td>1.006079</td>\n",
       "      <td>787.000000</td>\n",
       "      <td>2.429741</td>\n",
       "      <td>33.930000</td>\n",
       "      <td>-121.800000</td>\n",
       "    </tr>\n",
       "    <tr>\n",
       "      <th>50%</th>\n",
       "      <td>3.534800</td>\n",
       "      <td>29.000000</td>\n",
       "      <td>5.229129</td>\n",
       "      <td>1.048780</td>\n",
       "      <td>1166.000000</td>\n",
       "      <td>2.818116</td>\n",
       "      <td>34.260000</td>\n",
       "      <td>-118.490000</td>\n",
       "    </tr>\n",
       "    <tr>\n",
       "      <th>75%</th>\n",
       "      <td>4.743250</td>\n",
       "      <td>37.000000</td>\n",
       "      <td>6.052381</td>\n",
       "      <td>1.099526</td>\n",
       "      <td>1725.000000</td>\n",
       "      <td>3.282261</td>\n",
       "      <td>37.710000</td>\n",
       "      <td>-118.010000</td>\n",
       "    </tr>\n",
       "    <tr>\n",
       "      <th>max</th>\n",
       "      <td>15.000100</td>\n",
       "      <td>52.000000</td>\n",
       "      <td>141.909091</td>\n",
       "      <td>34.066667</td>\n",
       "      <td>35682.000000</td>\n",
       "      <td>1243.333333</td>\n",
       "      <td>41.950000</td>\n",
       "      <td>-114.310000</td>\n",
       "    </tr>\n",
       "  </tbody>\n",
       "</table>\n",
       "</div>"
      ],
      "text/plain": [
       "             MedInc      HouseAge      AveRooms     AveBedrms    Population  \\\n",
       "count  20640.000000  20640.000000  20640.000000  20640.000000  20640.000000   \n",
       "mean       3.870671     28.639486      5.429000      1.096675   1425.476744   \n",
       "std        1.899822     12.585558      2.474173      0.473911   1132.462122   \n",
       "min        0.499900      1.000000      0.846154      0.333333      3.000000   \n",
       "25%        2.563400     18.000000      4.440716      1.006079    787.000000   \n",
       "50%        3.534800     29.000000      5.229129      1.048780   1166.000000   \n",
       "75%        4.743250     37.000000      6.052381      1.099526   1725.000000   \n",
       "max       15.000100     52.000000    141.909091     34.066667  35682.000000   \n",
       "\n",
       "           AveOccup      Latitude     Longitude  \n",
       "count  20640.000000  20640.000000  20640.000000  \n",
       "mean       3.070655     35.631861   -119.569704  \n",
       "std       10.386050      2.135952      2.003532  \n",
       "min        0.692308     32.540000   -124.350000  \n",
       "25%        2.429741     33.930000   -121.800000  \n",
       "50%        2.818116     34.260000   -118.490000  \n",
       "75%        3.282261     37.710000   -118.010000  \n",
       "max     1243.333333     41.950000   -114.310000  "
      ]
     },
     "execution_count": 43,
     "metadata": {},
     "output_type": "execute_result"
    }
   ],
   "source": [
    "from sklearn.svm import LinearSVR\n",
    "import pandas as pd\n",
    "import seaborn as sns\n",
    "\n",
    "\n",
    "df = pd.DataFrame(X, columns = housing[\"feature_names\"])\n",
    "df.describe()"
   ]
  },
  {
   "cell_type": "code",
   "execution_count": 44,
   "metadata": {},
   "outputs": [
    {
     "data": {
      "text/html": [
       "<div>\n",
       "<style scoped>\n",
       "    .dataframe tbody tr th:only-of-type {\n",
       "        vertical-align: middle;\n",
       "    }\n",
       "\n",
       "    .dataframe tbody tr th {\n",
       "        vertical-align: top;\n",
       "    }\n",
       "\n",
       "    .dataframe thead th {\n",
       "        text-align: right;\n",
       "    }\n",
       "</style>\n",
       "<table border=\"1\" class=\"dataframe\">\n",
       "  <thead>\n",
       "    <tr style=\"text-align: right;\">\n",
       "      <th></th>\n",
       "      <th>MedInc</th>\n",
       "      <th>HouseAge</th>\n",
       "      <th>AveRooms</th>\n",
       "      <th>AveBedrms</th>\n",
       "      <th>Population</th>\n",
       "      <th>AveOccup</th>\n",
       "      <th>Latitude</th>\n",
       "      <th>Longitude</th>\n",
       "    </tr>\n",
       "  </thead>\n",
       "  <tbody>\n",
       "    <tr>\n",
       "      <th>MedInc</th>\n",
       "      <td>1.00</td>\n",
       "      <td>-0.12</td>\n",
       "      <td>0.33</td>\n",
       "      <td>-0.06</td>\n",
       "      <td>0.00</td>\n",
       "      <td>0.02</td>\n",
       "      <td>-0.08</td>\n",
       "      <td>-0.02</td>\n",
       "    </tr>\n",
       "    <tr>\n",
       "      <th>HouseAge</th>\n",
       "      <td>-0.12</td>\n",
       "      <td>1.00</td>\n",
       "      <td>-0.15</td>\n",
       "      <td>-0.08</td>\n",
       "      <td>-0.30</td>\n",
       "      <td>0.01</td>\n",
       "      <td>0.01</td>\n",
       "      <td>-0.11</td>\n",
       "    </tr>\n",
       "    <tr>\n",
       "      <th>AveRooms</th>\n",
       "      <td>0.33</td>\n",
       "      <td>-0.15</td>\n",
       "      <td>1.00</td>\n",
       "      <td>0.85</td>\n",
       "      <td>-0.07</td>\n",
       "      <td>-0.00</td>\n",
       "      <td>0.11</td>\n",
       "      <td>-0.03</td>\n",
       "    </tr>\n",
       "    <tr>\n",
       "      <th>AveBedrms</th>\n",
       "      <td>-0.06</td>\n",
       "      <td>-0.08</td>\n",
       "      <td>0.85</td>\n",
       "      <td>1.00</td>\n",
       "      <td>-0.07</td>\n",
       "      <td>-0.01</td>\n",
       "      <td>0.07</td>\n",
       "      <td>0.01</td>\n",
       "    </tr>\n",
       "    <tr>\n",
       "      <th>Population</th>\n",
       "      <td>0.00</td>\n",
       "      <td>-0.30</td>\n",
       "      <td>-0.07</td>\n",
       "      <td>-0.07</td>\n",
       "      <td>1.00</td>\n",
       "      <td>0.07</td>\n",
       "      <td>-0.11</td>\n",
       "      <td>0.10</td>\n",
       "    </tr>\n",
       "    <tr>\n",
       "      <th>AveOccup</th>\n",
       "      <td>0.02</td>\n",
       "      <td>0.01</td>\n",
       "      <td>-0.00</td>\n",
       "      <td>-0.01</td>\n",
       "      <td>0.07</td>\n",
       "      <td>1.00</td>\n",
       "      <td>0.00</td>\n",
       "      <td>0.00</td>\n",
       "    </tr>\n",
       "    <tr>\n",
       "      <th>Latitude</th>\n",
       "      <td>-0.08</td>\n",
       "      <td>0.01</td>\n",
       "      <td>0.11</td>\n",
       "      <td>0.07</td>\n",
       "      <td>-0.11</td>\n",
       "      <td>0.00</td>\n",
       "      <td>1.00</td>\n",
       "      <td>-0.92</td>\n",
       "    </tr>\n",
       "    <tr>\n",
       "      <th>Longitude</th>\n",
       "      <td>-0.02</td>\n",
       "      <td>-0.11</td>\n",
       "      <td>-0.03</td>\n",
       "      <td>0.01</td>\n",
       "      <td>0.10</td>\n",
       "      <td>0.00</td>\n",
       "      <td>-0.92</td>\n",
       "      <td>1.00</td>\n",
       "    </tr>\n",
       "  </tbody>\n",
       "</table>\n",
       "</div>"
      ],
      "text/plain": [
       "            MedInc  HouseAge  AveRooms  AveBedrms  Population  AveOccup  \\\n",
       "MedInc        1.00     -0.12      0.33      -0.06        0.00      0.02   \n",
       "HouseAge     -0.12      1.00     -0.15      -0.08       -0.30      0.01   \n",
       "AveRooms      0.33     -0.15      1.00       0.85       -0.07     -0.00   \n",
       "AveBedrms    -0.06     -0.08      0.85       1.00       -0.07     -0.01   \n",
       "Population    0.00     -0.30     -0.07      -0.07        1.00      0.07   \n",
       "AveOccup      0.02      0.01     -0.00      -0.01        0.07      1.00   \n",
       "Latitude     -0.08      0.01      0.11       0.07       -0.11      0.00   \n",
       "Longitude    -0.02     -0.11     -0.03       0.01        0.10      0.00   \n",
       "\n",
       "            Latitude  Longitude  \n",
       "MedInc         -0.08      -0.02  \n",
       "HouseAge        0.01      -0.11  \n",
       "AveRooms        0.11      -0.03  \n",
       "AveBedrms       0.07       0.01  \n",
       "Population     -0.11       0.10  \n",
       "AveOccup        0.00       0.00  \n",
       "Latitude        1.00      -0.92  \n",
       "Longitude      -0.92       1.00  "
      ]
     },
     "execution_count": 44,
     "metadata": {},
     "output_type": "execute_result"
    },
    {
     "data": {
      "image/png": "[encoded data removed]",
      "text/plain": [
       "<Figure size 432x288 with 2 Axes>"
      ]
     },
     "metadata": {
      "needs_background": "light"
     },
     "output_type": "display_data"
    }
   ],
   "source": [
    "corr = df.corr().round(2)\n",
    "sns.heatmap(corr, cmap = 'viridis')\n",
    "corr"
   ]
  },
  {
   "cell_type": "markdown",
   "metadata": {},
   "source": [
    "**2. Przeskalowanie i podzielenie na zbiory uczący i testowy**"
   ]
  },
  {
   "cell_type": "code",
   "execution_count": 45,
   "metadata": {},
   "outputs": [],
   "source": [
    "from sklearn.model_selection import train_test_split\n",
    "from sklearn.preprocessing import StandardScaler\n",
    "\n",
    "X_train, X_test, y_train, y_test = train_test_split(X, y, test_size = 0.2)\n",
    "\n",
    "scaler = StandardScaler()\n",
    "\n",
    "X_train_scaled = scaler.fit_transform(X_train)\n",
    "X_test_scaled = scaler.fit_transform(X_test)"
   ]
  },
  {
   "cell_type": "code",
   "execution_count": 46,
   "metadata": {},
   "outputs": [
    {
     "name": "stderr",
     "output_type": "stream",
     "text": [
      "C:\\Users\\kicpe\\anaconda3\\lib\\site-packages\\sklearn\\svm\\_base.py:976: ConvergenceWarning: Liblinear failed to converge, increase the number of iterations.\n",
      "  warnings.warn(\"Liblinear failed to converge, increase \"\n"
     ]
    },
    {
     "data": {
      "text/plain": [
       "LinearSVR()"
      ]
     },
     "execution_count": 46,
     "metadata": {},
     "output_type": "execute_result"
    }
   ],
   "source": [
    "svr_clf = LinearSVR()\n",
    "\n",
    "svr_clf.fit(X_train_scaled, y_train)"
   ]
  },
  {
   "cell_type": "markdown",
   "metadata": {},
   "source": [
    "**3. p r e d y k c j a**"
   ]
  },
  {
   "cell_type": "code",
   "execution_count": 48,
   "metadata": {},
   "outputs": [],
   "source": [
    "from sklearn.metrics import mean_squared_error\n",
    "\n",
    "y_pred = svr_clf.predict(X_train_scaled)\n",
    "mse = mean_squared_error(y_train, y_pred)\n",
    "rmse = np.sqrt(mse)"
   ]
  },
  {
   "cell_type": "code",
   "execution_count": 49,
   "metadata": {},
   "outputs": [
    {
     "data": {
      "text/plain": [
       "1.106801529418468"
      ]
     },
     "execution_count": 49,
     "metadata": {},
     "output_type": "execute_result"
    }
   ],
   "source": [
    "rmse #blad rzedu 1.1 * 10^4"
   ]
  },
  {
   "cell_type": "markdown",
   "metadata": {},
   "source": [
    "To samo z wykorzystaniem jądra RBF"
   ]
  },
  {
   "cell_type": "code",
   "execution_count": 54,
   "metadata": {},
   "outputs": [
    {
     "name": "stdout",
     "output_type": "stream",
     "text": [
      "Fitting 3 folds for each of 10 candidates, totalling 30 fits\n",
      "[CV] C=0.042702200470257405, gamma=0.027583475549166736 ..............\n"
     ]
    },
    {
     "name": "stderr",
     "output_type": "stream",
     "text": [
      "[Parallel(n_jobs=1)]: Using backend SequentialBackend with 1 concurrent workers.\n"
     ]
    },
    {
     "name": "stdout",
     "output_type": "stream",
     "text": [
      "[CV]  C=0.042702200470257405, gamma=0.027583475549166736, total=   4.5s\n",
      "[CV] C=0.042702200470257405, gamma=0.027583475549166736 ..............\n"
     ]
    },
    {
     "name": "stderr",
     "output_type": "stream",
     "text": [
      "[Parallel(n_jobs=1)]: Done   1 out of   1 | elapsed:    4.4s remaining:    0.0s\n"
     ]
    },
    {
     "name": "stdout",
     "output_type": "stream",
     "text": [
      "[CV]  C=0.042702200470257405, gamma=0.027583475549166736, total=   4.3s\n",
      "[CV] C=0.042702200470257405, gamma=0.027583475549166736 ..............\n",
      "[CV]  C=0.042702200470257405, gamma=0.027583475549166736, total=   4.4s\n",
      "[CV] C=0.0010114374817344887, gamma=0.0040240664647146086 ............\n",
      "[CV]  C=0.0010114374817344887, gamma=0.0040240664647146086, total=   5.0s\n",
      "[CV] C=0.0010114374817344887, gamma=0.0040240664647146086 ............\n",
      "[CV]  C=0.0010114374817344887, gamma=0.0040240664647146086, total=   5.0s\n",
      "[CV] C=0.0010114374817344887, gamma=0.0040240664647146086 ............\n",
      "[CV]  C=0.0010114374817344887, gamma=0.0040240664647146086, total=   5.1s\n",
      "[CV] C=0.015675589081711305, gamma=0.001529949829431263 ..............\n",
      "[CV]  C=0.015675589081711305, gamma=0.001529949829431263, total=   4.9s\n",
      "[CV] C=0.015675589081711305, gamma=0.001529949829431263 ..............\n",
      "[CV]  C=0.015675589081711305, gamma=0.001529949829431263, total=   4.9s\n",
      "[CV] C=0.015675589081711305, gamma=0.001529949829431263 ..............\n",
      "[CV]  C=0.015675589081711305, gamma=0.001529949829431263, total=   5.0s\n",
      "[CV] C=0.019626021137767093, gamma=0.0049104518184659674 .............\n",
      "[CV]  C=0.019626021137767093, gamma=0.0049104518184659674, total=   4.7s\n",
      "[CV] C=0.019626021137767093, gamma=0.0049104518184659674 .............\n",
      "[CV]  C=0.019626021137767093, gamma=0.0049104518184659674, total=   4.7s\n",
      "[CV] C=0.019626021137767093, gamma=0.0049104518184659674 .............\n",
      "[CV]  C=0.019626021137767093, gamma=0.0049104518184659674, total=   4.7s\n",
      "[CV] C=0.040676747423067, gamma=0.011957309429716362 .................\n",
      "[CV] .. C=0.040676747423067, gamma=0.011957309429716362, total=   4.5s\n",
      "[CV] C=0.040676747423067, gamma=0.011957309429716362 .................\n",
      "[CV] .. C=0.040676747423067, gamma=0.011957309429716362, total=   4.4s\n",
      "[CV] C=0.040676747423067, gamma=0.011957309429716362 .................\n",
      "[CV] .. C=0.040676747423067, gamma=0.011957309429716362, total=   4.4s\n",
      "[CV] C=0.042919451440329486, gamma=0.023465996458590863 ..............\n",
      "[CV]  C=0.042919451440329486, gamma=0.023465996458590863, total=   4.4s\n",
      "[CV] C=0.042919451440329486, gamma=0.023465996458590863 ..............\n",
      "[CV]  C=0.042919451440329486, gamma=0.023465996458590863, total=   4.5s\n",
      "[CV] C=0.042919451440329486, gamma=0.023465996458590863 ..............\n",
      "[CV]  C=0.042919451440329486, gamma=0.023465996458590863, total=   4.4s\n",
      "[CV] C=0.021445224973151746, gamma=0.0570472708820368 ................\n",
      "[CV] . C=0.021445224973151746, gamma=0.0570472708820368, total=   4.4s\n",
      "[CV] C=0.021445224973151746, gamma=0.0570472708820368 ................\n",
      "[CV] . C=0.021445224973151746, gamma=0.0570472708820368, total=   4.4s\n",
      "[CV] C=0.021445224973151746, gamma=0.0570472708820368 ................\n",
      "[CV] . C=0.021445224973151746, gamma=0.0570472708820368, total=   4.4s\n",
      "[CV] C=0.0037387593197926164, gamma=0.02192476869880637 ..............\n",
      "[CV]  C=0.0037387593197926164, gamma=0.02192476869880637, total=   4.8s\n",
      "[CV] C=0.0037387593197926164, gamma=0.02192476869880637 ..............\n",
      "[CV]  C=0.0037387593197926164, gamma=0.02192476869880637, total=   4.8s\n",
      "[CV] C=0.0037387593197926164, gamma=0.02192476869880637 ..............\n",
      "[CV]  C=0.0037387593197926164, gamma=0.02192476869880637, total=   4.9s\n",
      "[CV] C=0.0427304802367127, gamma=0.01310326900146443 .................\n",
      "[CV] .. C=0.0427304802367127, gamma=0.01310326900146443, total=   4.5s\n",
      "[CV] C=0.0427304802367127, gamma=0.01310326900146443 .................\n",
      "[CV] .. C=0.0427304802367127, gamma=0.01310326900146443, total=   4.4s\n",
      "[CV] C=0.0427304802367127, gamma=0.01310326900146443 .................\n",
      "[CV] .. C=0.0427304802367127, gamma=0.01310326900146443, total=   4.4s\n",
      "[CV] C=0.015038693859523378, gamma=0.0024900208186207436 .............\n",
      "[CV]  C=0.015038693859523378, gamma=0.0024900208186207436, total=   4.8s\n",
      "[CV] C=0.015038693859523378, gamma=0.0024900208186207436 .............\n",
      "[CV]  C=0.015038693859523378, gamma=0.0024900208186207436, total=   4.8s\n",
      "[CV] C=0.015038693859523378, gamma=0.0024900208186207436 .............\n",
      "[CV]  C=0.015038693859523378, gamma=0.0024900208186207436, total=   4.9s\n"
     ]
    },
    {
     "name": "stderr",
     "output_type": "stream",
     "text": [
      "[Parallel(n_jobs=1)]: Done  30 out of  30 | elapsed:  2.3min finished\n"
     ]
    },
    {
     "data": {
      "text/plain": [
       "RandomizedSearchCV(cv=3, estimator=SVR(),\n",
       "                   param_distributions={'C': <scipy.stats._distn_infrastructure.rv_frozen object at 0x000001E809FC8C40>,\n",
       "                                        'gamma': <scipy.stats._distn_infrastructure.rv_frozen object at 0x000001E80A01F940>},\n",
       "                   random_state=1, verbose=2)"
      ]
     },
     "execution_count": 54,
     "metadata": {},
     "output_type": "execute_result"
    }
   ],
   "source": [
    "from sklearn.svm import SVR\n",
    "from sklearn.model_selection import RandomizedSearchCV\n",
    "from scipy.stats import uniform,reciprocal\n",
    "\n",
    "params = {\"C\": uniform(0.001, 0.1), \"gamma\": reciprocal(0.001, 0.1)}\n",
    "\n",
    "rbf_clf_rns = RandomizedSearchCV(SVR(), param_distributions=params, cv=3, verbose=2, random_state=1)\n",
    "rbf_clf_rns.fit(X_train_scaled, y_train)"
   ]
  },
  {
   "cell_type": "code",
   "execution_count": 55,
   "metadata": {},
   "outputs": [
    {
     "data": {
      "text/plain": [
       "SVR(C=0.042702200470257405, gamma=0.027583475549166736)"
      ]
     },
     "execution_count": 55,
     "metadata": {},
     "output_type": "execute_result"
    }
   ],
   "source": [
    "rbf_clf_rns.best_estimator_"
   ]
  },
  {
   "cell_type": "code",
   "execution_count": 57,
   "metadata": {},
   "outputs": [
    {
     "data": {
      "text/plain": [
       "SVR(C=0.042702200470257405, gamma=0.027583475549166736)"
      ]
     },
     "execution_count": 57,
     "metadata": {},
     "output_type": "execute_result"
    }
   ],
   "source": [
    "rbf_clf_rns.best_estimator_.fit(X_train_scaled, y_train)"
   ]
  },
  {
   "cell_type": "code",
   "execution_count": 61,
   "metadata": {},
   "outputs": [
    {
     "name": "stdout",
     "output_type": "stream",
     "text": [
      "0.7043553336619863\n"
     ]
    }
   ],
   "source": [
    "y_pred = rbf_clf_rns.best_estimator_.predict(X_train_scaled)\n",
    "\n",
    "mse = mean_squared_error(y_train, y_pred)\n",
    "print(np.sqrt(mse)) "
   ]
  },
  {
   "cell_type": "markdown",
   "metadata": {},
   "source": [
    "**RMSE** wobec zbioru testowego:"
   ]
  },
  {
   "cell_type": "code",
   "execution_count": 60,
   "metadata": {},
   "outputs": [
    {
     "name": "stdout",
     "output_type": "stream",
     "text": [
      "0.6913147676853352\n"
     ]
    }
   ],
   "source": [
    "y_pred = rbf_clf_rns.best_estimator_.predict(X_test_scaled)\n",
    "\n",
    "print(np.sqrt(mean_squared_error(y_test, y_pred)))"
   ]
  }
 ],
 "metadata": {
  "kernelspec": {
   "display_name": "Python 3",
   "language": "python",
   "name": "python3"
  },
  "language_info": {
   "codemirror_mode": {
    "name": "ipython",
    "version": 3
   },
   "file_extension": ".py",
   "mimetype": "text/x-python",
   "name": "python",
   "nbconvert_exporter": "python",
   "pygments_lexer": "ipython3",
   "version": "3.8.5"
  }
 },
 "nbformat": 4,
 "nbformat_minor": 4
}
