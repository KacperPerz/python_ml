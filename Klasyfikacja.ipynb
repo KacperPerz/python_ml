{
 "cells": [
  {
   "cell_type": "markdown",
   "metadata": {},
   "source": [
    "# 1. Klasyfikacja danych MIST przy użyciu K-neighbours"
   ]
  },
  {
   "cell_type": "code",
   "execution_count": 1,
   "metadata": {},
   "outputs": [],
   "source": [
    "# Importuje standardowe biblioteki\n",
    "import numpy as np\n",
    "import os\n",
    "\n",
    "# Aby wyniki uzyskiwane w tym notatniku były odtwarzalne\n",
    "np.random.seed(42)\n",
    "\n",
    "# Do rysowania ładnych wykresów\n",
    "%matplotlib inline\n",
    "import matplotlib as mpl\n",
    "import matplotlib.pyplot as plt\n",
    "mpl.rc('axes', labelsize=14)\n",
    "mpl.rc('xtick', labelsize=12)\n",
    "mpl.rc('ytick', labelsize=12)"
   ]
  },
  {
   "cell_type": "markdown",
   "metadata": {},
   "source": [
    "# Przygotowanie danych"
   ]
  },
  {
   "cell_type": "code",
   "execution_count": 2,
   "metadata": {},
   "outputs": [
    {
     "data": {
      "text/plain": [
       "dict_keys(['data', 'target', 'frame', 'categories', 'feature_names', 'target_names', 'DESCR', 'details', 'url'])"
      ]
     },
     "execution_count": 2,
     "metadata": {},
     "output_type": "execute_result"
    }
   ],
   "source": [
    "from sklearn.datasets import fetch_openml\n",
    "mnist = fetch_openml('mnist_784', version=1)\n",
    "mnist.keys()"
   ]
  },
  {
   "cell_type": "code",
   "execution_count": 3,
   "metadata": {},
   "outputs": [],
   "source": [
    "#dzielenie danych na zbiór treningowy i testowy\n",
    "X, y = mnist[\"data\"], mnist[\"target\"]\n",
    "X_train, X_test, y_train, y_test = X[60000:], X[:60000], y[60000:], y[:60000]"
   ]
  },
  {
   "cell_type": "markdown",
   "metadata": {},
   "source": [
    "# Klasyfikator"
   ]
  },
  {
   "cell_type": "code",
   "execution_count": 4,
   "metadata": {},
   "outputs": [
    {
     "data": {
      "text/plain": [
       "KNeighborsClassifier()"
      ]
     },
     "execution_count": 4,
     "metadata": {},
     "output_type": "execute_result"
    }
   ],
   "source": [
    "from sklearn.neighbors import KNeighborsClassifier\n",
    "\n",
    "knn_clf = KNeighborsClassifier()\n",
    "knn_clf.fit(X_train, y_train)"
   ]
  },
  {
   "cell_type": "code",
   "execution_count": 5,
   "metadata": {},
   "outputs": [
    {
     "data": {
      "text/plain": [
       "array(['0'], dtype=object)"
      ]
     },
     "execution_count": 5,
     "metadata": {},
     "output_type": "execute_result"
    }
   ],
   "source": [
    "example = X[1] #0\n",
    "knn_clf.predict([example])"
   ]
  },
  {
   "cell_type": "code",
   "execution_count": 6,
   "metadata": {},
   "outputs": [
    {
     "data": {
      "text/plain": [
       "array([0.91211758, 0.93789379, 0.9579958 ])"
      ]
     },
     "execution_count": 6,
     "metadata": {},
     "output_type": "execute_result"
    }
   ],
   "source": [
    "from sklearn.model_selection import cross_val_predict, cross_val_score\n",
    "cross_val_score(knn_clf,X_train, y_train, cv=3, scoring=\"accuracy\")"
   ]
  },
  {
   "cell_type": "code",
   "execution_count": 7,
   "metadata": {},
   "outputs": [
    {
     "name": "stdout",
     "output_type": "stream",
     "text": [
      "Fitting 2 folds for each of 1 candidates, totalling 2 fits\n",
      "[CV] n_neighbors=3, p=2.3, weights=distance ..........................\n"
     ]
    },
    {
     "name": "stderr",
     "output_type": "stream",
     "text": [
      "[Parallel(n_jobs=1)]: Using backend SequentialBackend with 1 concurrent workers.\n"
     ]
    },
    {
     "name": "stdout",
     "output_type": "stream",
     "text": [
      "[CV]  n_neighbors=3, p=2.3, weights=distance, score=0.887, total= 5.3min\n",
      "[CV] n_neighbors=3, p=2.3, weights=distance ..........................\n"
     ]
    },
    {
     "name": "stderr",
     "output_type": "stream",
     "text": [
      "[Parallel(n_jobs=1)]: Done   1 out of   1 | elapsed:  5.3min remaining:    0.0s\n"
     ]
    },
    {
     "name": "stdout",
     "output_type": "stream",
     "text": [
      "[CV]  n_neighbors=3, p=2.3, weights=distance, score=0.944, total= 5.3min\n"
     ]
    },
    {
     "name": "stderr",
     "output_type": "stream",
     "text": [
      "[Parallel(n_jobs=1)]: Done   2 out of   2 | elapsed: 10.6min remaining:    0.0s\n",
      "[Parallel(n_jobs=1)]: Done   2 out of   2 | elapsed: 10.6min finished\n"
     ]
    },
    {
     "data": {
      "text/plain": [
       "GridSearchCV(cv=2, estimator=KNeighborsClassifier(),\n",
       "             param_grid={'n_neighbors': [3], 'p': [2.3],\n",
       "                         'weights': ['distance']},\n",
       "             verbose=3)"
      ]
     },
     "execution_count": 7,
     "metadata": {},
     "output_type": "execute_result"
    }
   ],
   "source": [
    "from sklearn.model_selection import GridSearchCV\n",
    "\n",
    "#bez sensownego procesora lepiej nie zalaczac\n",
    "knn_for_test = KNeighborsClassifier()\n",
    "clf = GridSearchCV(knn_for_test, {\n",
    "    'weights' : ['distance', 'uniform'],\n",
    "    'n_neighbors' : [2,3,4],\n",
    "    'p' : [2.2,2.3,2.4]\n",
    "}, cv = 2, verbose = 3)\n",
    "\n",
    "clf.fit(X_train, y_train)"
   ]
  },
  {
   "cell_type": "code",
   "execution_count": 28,
   "metadata": {},
   "outputs": [
    {
     "data": {
      "text/plain": [
       "{'n_neighbors': 4, 'weights': 'distance'}"
      ]
     },
     "execution_count": 28,
     "metadata": {},
     "output_type": "execute_result"
    }
   ],
   "source": [
    "clf.best_params_"
   ]
  },
  {
   "cell_type": "code",
   "execution_count": 29,
   "metadata": {},
   "outputs": [
    {
     "data": {
      "text/plain": [
       "0.9492"
      ]
     },
     "execution_count": 29,
     "metadata": {},
     "output_type": "execute_result"
    }
   ],
   "source": [
    "clf.best_score_"
   ]
  },
  {
   "cell_type": "markdown",
   "metadata": {},
   "source": [
    "# 2. To samo, ale po dogenerowaniu danych"
   ]
  },
  {
   "cell_type": "code",
   "execution_count": 5,
   "metadata": {},
   "outputs": [],
   "source": [
    "from scipy.ndimage.interpolation import shift\n",
    "from sklearn.neighbors import KNeighborsClassifier"
   ]
  },
  {
   "cell_type": "code",
   "execution_count": 6,
   "metadata": {},
   "outputs": [],
   "source": [
    "def shift_image(image,dx,dy):\n",
    "    image = image.reshape((28,28))\n",
    "    shifted_image = shift(image, [dy,dx], cval = 0, mode=\"constant\")\n",
    "    return shifted_image.reshape(-1)"
   ]
  },
  {
   "cell_type": "code",
   "execution_count": 7,
   "metadata": {},
   "outputs": [
    {
     "data": {
      "image/png": "[encoded data removed]",
      "text/plain": [
       "<Figure size 864x432 with 4 Axes>"
      ]
     },
     "metadata": {
      "needs_background": "light"
     },
     "output_type": "display_data"
    }
   ],
   "source": [
    "%matplotlib inline\n",
    "import matplotlib as mpl\n",
    "import matplotlib.pyplot as plt\n",
    "\n",
    "image = X_train[1000]\n",
    "shifted_image_right = shift_image(image,5, 0)\n",
    "shifted_image_up = shift_image(image, 0, -5)\n",
    "shifted_image_left = shift_image(image, -5, 0)\n",
    "\n",
    "plt.figure(figsize=(12,6))\n",
    "plt.subplot(141)\n",
    "plt.title(\"Oryginal\", fontsize=13)\n",
    "plt.imshow(image.reshape(28,28), interpolation = \"nearest\", cmap = \"Greys\")\n",
    "\n",
    "plt.subplot(142)\n",
    "plt.title(\"Przesuniecie w prawo\", fontsize=13)\n",
    "plt.imshow(shifted_image_right.reshape(28,28),interpolation = \"nearest\", cmap=\"Greys\")\n",
    "\n",
    "plt.subplot(143)\n",
    "plt.title(\"Przesuniecie w lewo\", fontsize=13)\n",
    "plt.imshow(shifted_image_left.reshape(28,28),interpolation = \"nearest\", cmap=\"Greys\")\n",
    "\n",
    "\n",
    "plt.subplot(144)\n",
    "plt.title(\"Przesuniecie w gore\", fontsize=13)\n",
    "plt.imshow(shifted_image_up.reshape(28,28), interpolation = \"nearest\", cmap=\"Greys\")\n",
    "plt.show()"
   ]
  },
  {
   "cell_type": "code",
   "execution_count": 8,
   "metadata": {},
   "outputs": [],
   "source": [
    "X_train_enriched = [image for image in X_train]\n",
    "y_train_enriched = [label for label in y_train]\n",
    "\n",
    "for dx, dy in ((3,0), (-3,0), (0,1), (0,-1)):\n",
    "    for image, label in zip(X_train, y_train):\n",
    "        X_train_enriched.append(shift_image(image,dx,dy))\n",
    "        y_train_enriched.append(label)\n",
    "\n",
    "X_train_enriched = np.array(X_train_enriched)\n",
    "y_train_enriched = np.array(y_train_enriched)"
   ]
  },
  {
   "cell_type": "code",
   "execution_count": 9,
   "metadata": {},
   "outputs": [],
   "source": [
    "shuffle_idx = np.random.permutation(len(X_train_enriched))\n",
    "X_train_enriched = X_train_enriched[shuffle_idx]\n",
    "y_train_enriched = y_train_enriched[shuffle_idx]"
   ]
  },
  {
   "cell_type": "code",
   "execution_count": 10,
   "metadata": {},
   "outputs": [],
   "source": [
    "knn_clf = KNeighborsClassifier(weights = 'distance', n_neighbors = 4 )\n",
    "#knn_clf = KNeighborsClassifier(**grid_search.best_params_) "
   ]
  },
  {
   "cell_type": "code",
   "execution_count": 11,
   "metadata": {},
   "outputs": [
    {
     "data": {
      "text/plain": [
       "KNeighborsClassifier(n_neighbors=4, weights='distance')"
      ]
     },
     "execution_count": 11,
     "metadata": {},
     "output_type": "execute_result"
    }
   ],
   "source": [
    "knn_clf.fit(X_train_enriched, y_train_enriched)"
   ]
  },
  {
   "cell_type": "code",
   "execution_count": null,
   "metadata": {},
   "outputs": [],
   "source": [
    "y_pred = knn_clf.predict(X_test)\n",
    "accuracy_score(y_test, y_pred)"
   ]
  },
  {
   "cell_type": "markdown",
   "metadata": {},
   "source": [
    "# Klasyfikacja przy użyciu zespołu klasyfikatorów"
   ]
  },
  {
   "cell_type": "code",
   "execution_count": 1,
   "metadata": {},
   "outputs": [
    {
     "data": {
      "text/plain": [
       "dict_keys(['data', 'target', 'frame', 'categories', 'feature_names', 'target_names', 'DESCR', 'details', 'url'])"
      ]
     },
     "execution_count": 1,
     "metadata": {},
     "output_type": "execute_result"
    }
   ],
   "source": [
    "# Importuje standardowe biblioteki\n",
    "import numpy as np\n",
    "import os\n",
    "\n",
    "# Aby wyniki uzyskiwane w tym notatniku były odtwarzalne\n",
    "np.random.seed(42)\n",
    "\n",
    "# Do rysowania ładnych wykresów\n",
    "%matplotlib inline\n",
    "import matplotlib as mpl\n",
    "import matplotlib.pyplot as plt\n",
    "mpl.rc('axes', labelsize=14)\n",
    "mpl.rc('xtick', labelsize=12)\n",
    "mpl.rc('ytick', labelsize=12)\n",
    "\n",
    "from sklearn.datasets import fetch_openml\n",
    "mnist = fetch_openml('mnist_784', version=1)\n",
    "mnist.keys()"
   ]
  },
  {
   "cell_type": "code",
   "execution_count": 10,
   "metadata": {},
   "outputs": [],
   "source": [
    "from sklearn.model_selection import train_test_split\n",
    "\n",
    "#X_train_val, X_test, y_train_val, y_test = train_test_split(\n",
    "#    mnist.data, mnist.target, test_size=10000, random_state=42)\n",
    "#X_train, X_val, y_train, y_val = train_test_split(\n",
    "#    X_train_val, y_train_val, test_size=10000, random_state=42)\n",
    "\n",
    "idx = np.random.permutation(60000)[:10000]\n",
    "X = mnist['data'][idx]\n",
    "y = mnist['target'][idx]\n",
    "\n",
    "idx = np.random.permutation(60000)[:2500]\n",
    "X_test = mnist['data'][idx]\n",
    "y_test = mnist['target'][idx]"
   ]
  },
  {
   "cell_type": "markdown",
   "metadata": {},
   "source": [
    "Jako że niektóre algorytmy (w tym SVM) mogą działać za długo, należy dokonać redukcji wymiarowości. tSNE grupuje podobne elementy, więc w obliczu klasyfikacji liczb sprawdzi się dobrze. Na dużych zbiorach wykonuje się natomiast bardzo wolno - przyspieszę ten proces poprzedzając go analizą PCA z zachowaniem 95% wariancji. Znacznie przyspieszy tSNE niewielkim kosztem dokładności. 2 wymiary posłużą do prezentacji wykresu."
   ]
  },
  {
   "cell_type": "code",
   "execution_count": 17,
   "metadata": {},
   "outputs": [],
   "source": [
    "from sklearn.manifold import TSNE\n",
    "from sklearn.pipeline import Pipeline\n",
    "from sklearn.decomposition import PCA\n",
    "\n",
    "pca_tsne = Pipeline([\n",
    "    (\"pca\", PCA(n_components=0.95, random_state=1)),\n",
    "    (\"tsne\", TSNE(n_components=2, random_state=1))\n",
    "])\n",
    "\n",
    "X_reduced = pca_tsne.fit_transform(X)\n",
    "X_reduced_test = pca_tsne.fit_transform(X_test)"
   ]
  },
  {
   "cell_type": "code",
   "execution_count": 28,
   "metadata": {},
   "outputs": [
    {
     "data": {
      "image/png": "[encoded data removed]",
      "text/plain": [
       "<Figure size 432x288 with 1 Axes>"
      ]
     },
     "metadata": {
      "needs_background": "light"
     },
     "output_type": "display_data"
    }
   ],
   "source": [
    "fig, ax = plt.subplots()\n",
    "scatter_x = X_reduced[:,0]\n",
    "scatter_y = X_reduced[:,1]\n",
    "for g in np.unique(y):\n",
    "    i = np.where(y == g)\n",
    "    ax.scatter(scatter_x[i], scatter_y[i], label=g)\n",
    "ax.legend()\n",
    "plt.show()"
   ]
  },
  {
   "cell_type": "markdown",
   "metadata": {},
   "source": [
    "Grupowanie przebiegło pomyślnie, ale jak się okazuje modele działają gorzej niż losowo. Do lepszych wyników potrzeba przede wszystkim więcej prób uczących (a więc i więcej czasu) i więcej wymiarów. 2 wymiary nadają się do prezentacji danych, ale na pewno nie do tworzenia dobrych modeli."
   ]
  },
  {
   "cell_type": "code",
   "execution_count": 14,
   "metadata": {},
   "outputs": [],
   "source": [
    "from sklearn.svm import SVC\n",
    "from sklearn.ensemble import RandomForestClassifier\n",
    "from sklearn.ensemble import ExtraTreesClassifier\n",
    "from sklearn.ensemble import VotingClassifier\n",
    "\n",
    "ext_clf = ExtraTreesClassifier(random_state=1)\n",
    "svm_clf = SVC(gamma=\"scale\", probability=True, random_state=1)\n",
    "rf_clf = RandomForestClassifier(random_state=1)\n",
    "\n",
    "voter = VotingClassifier(\n",
    "    estimators = [('ext', ext_clf), ('svm', svm_clf), ('rf', rf_clf)],\n",
    "    voting = 'soft', verbose = True)"
   ]
  },
  {
   "cell_type": "code",
   "execution_count": 15,
   "metadata": {},
   "outputs": [
    {
     "name": "stdout",
     "output_type": "stream",
     "text": [
      "ExtraTreesClassifier 0.3048\n",
      "SVC 0.3208\n",
      "RandomForestClassifier 0.2976\n",
      "[Voting] ...................... (1 of 3) Processing ext, total=   0.5s\n",
      "[Voting] ...................... (2 of 3) Processing svm, total=   1.8s\n",
      "[Voting] ....................... (3 of 3) Processing rf, total=   1.0s\n",
      "VotingClassifier 0.3108\n"
     ]
    }
   ],
   "source": [
    "from sklearn.metrics import accuracy_score\n",
    "\n",
    "for clf in (ext_clf, svm_clf, rf_clf, voter):\n",
    "    clf.fit(X_reduced, y)\n",
    "    \n",
    "    y_pred = clf.predict(X_reduced_test)\n",
    "    print(clf.__class__.__name__, accuracy_score(y_test, y_pred))\n",
    "    "
   ]
  },
  {
   "cell_type": "markdown",
   "metadata": {},
   "source": [
    "Te same modele dają wynik powyżej 98% jeżeli wytrenuje się je na pełnym zbiorze uczącym i zastosuje głosowanie miękkie. W przypadku SVM warto zastosować parametry gamma = 0.005 i C=5, uprzednio skalując dane. Niestety, ale takie zmiany wydłużają czas trenowania modelu jeszcze bardziej."
   ]
  },
  {
   "cell_type": "markdown",
   "metadata": {},
   "source": [
    "# Klasyfikacja z użyciem TensorFlow"
   ]
  },
  {
   "cell_type": "code",
   "execution_count": 21,
   "metadata": {},
   "outputs": [
    {
     "name": "stdout",
     "output_type": "stream",
     "text": [
      "The tensorboard extension is already loaded. To reload it, use:\n",
      "  %reload_ext tensorboard\n"
     ]
    }
   ],
   "source": [
    "import tensorflow as tf\n",
    "from tensorflow import keras\n",
    "import numpy as np\n",
    "import os\n",
    "%load_ext tensorboard\n",
    "np.random.seed(42)\n",
    "\n",
    "# Do rysowania ładnych wykresów\n",
    "%matplotlib inline\n",
    "import matplotlib as mpl\n",
    "import matplotlib.pyplot as plt\n",
    "mpl.rc('axes', labelsize=14)\n",
    "mpl.rc('xtick', labelsize=12)\n",
    "mpl.rc('ytick', labelsize=12)"
   ]
  },
  {
   "cell_type": "code",
   "execution_count": 2,
   "metadata": {},
   "outputs": [
    {
     "ename": "NameError",
     "evalue": "name 'keras' is not defined",
     "output_type": "error",
     "traceback": [
      "\u001b[1;31m---------------------------------------------------------------------------\u001b[0m",
      "\u001b[1;31mNameError\u001b[0m                                 Traceback (most recent call last)",
      "\u001b[1;32m<ipython-input-2-f59c934b711f>\u001b[0m in \u001b[0;36m<module>\u001b[1;34m\u001b[0m\n\u001b[1;32m----> 1\u001b[1;33m \u001b[1;33m(\u001b[0m\u001b[0mX_train_full\u001b[0m\u001b[1;33m,\u001b[0m \u001b[0my_train_full\u001b[0m\u001b[1;33m)\u001b[0m\u001b[1;33m,\u001b[0m \u001b[1;33m(\u001b[0m\u001b[0mX_test\u001b[0m\u001b[1;33m,\u001b[0m \u001b[0my_test\u001b[0m\u001b[1;33m)\u001b[0m \u001b[1;33m=\u001b[0m \u001b[0mkeras\u001b[0m\u001b[1;33m.\u001b[0m\u001b[0mdatasets\u001b[0m\u001b[1;33m.\u001b[0m\u001b[0mmnist\u001b[0m\u001b[1;33m.\u001b[0m\u001b[0mload_data\u001b[0m\u001b[1;33m(\u001b[0m\u001b[1;33m)\u001b[0m\u001b[1;33m\u001b[0m\u001b[1;33m\u001b[0m\u001b[0m\n\u001b[0m",
      "\u001b[1;31mNameError\u001b[0m: name 'keras' is not defined"
     ]
    }
   ],
   "source": [
    "(X_train_full, y_train_full), (X_test, y_test) = keras.datasets.mnist.load_data()"
   ]
  },
  {
   "cell_type": "code",
   "execution_count": 23,
   "metadata": {},
   "outputs": [],
   "source": [
    "X_valid, X_train = X_train_full[:5000] / 255., X_train_full[5000:] / 255.\n",
    "y_valid, y_train = y_train_full[:5000], y_train_full[5000:]\n",
    "X_test = X_test / 255."
   ]
  },
  {
   "cell_type": "markdown",
   "metadata": {},
   "source": [
    "Zastosuję harmonogramowanie wykładnicze:"
   ]
  },
  {
   "cell_type": "code",
   "execution_count": 24,
   "metadata": {},
   "outputs": [],
   "source": [
    "K = keras.backend\n",
    "\n",
    "class ExponentialLearningRate(keras.callbacks.Callback):\n",
    "    def __init__(self, factor):\n",
    "        self.factor = factor\n",
    "        self.rates = []\n",
    "        self.losses = []\n",
    "    def on_batch_end(self, batch, logs):\n",
    "        self.rates.append(K.get_value(self.model.optimizer.lr))\n",
    "        self.losses.append(logs[\"loss\"])\n",
    "        K.set_value(self.model.optimizer.lr, self.model.optimizer.lr * self.factor)"
   ]
  },
  {
   "cell_type": "code",
   "execution_count": 25,
   "metadata": {},
   "outputs": [],
   "source": [
    "keras.backend.clear_session()\n",
    "np.random.seed(42)\n",
    "tf.random.set_seed(42)"
   ]
  },
  {
   "cell_type": "code",
   "execution_count": 26,
   "metadata": {},
   "outputs": [],
   "source": [
    "model = keras.models.Sequential([\n",
    "  keras.layers.Flatten(input_shape = [28,28]),\n",
    "  keras.layers.Dense(300, activation=\"relu\"),\n",
    "  keras.layers.Dense(100, activation=\"relu\"),\n",
    "  keras.layers.Dense(10, activation=\"softmax\")\n",
    "])"
   ]
  },
  {
   "cell_type": "code",
   "execution_count": 27,
   "metadata": {},
   "outputs": [],
   "source": [
    "model.compile(loss=\"sparse_categorical_crossentropy\",\n",
    "             optimizer=keras.optimizers.SGD(lr=1e-3),\n",
    "             metrics=[\"accuracy\"])\n",
    "exp_lr = ExponentialLearningRate(factor=1.005)"
   ]
  },
  {
   "cell_type": "code",
   "execution_count": 28,
   "metadata": {},
   "outputs": [
    {
     "data": {
      "text/plain": [
       "dtype('float64')"
      ]
     },
     "execution_count": 28,
     "metadata": {},
     "output_type": "execute_result"
    }
   ],
   "source": [
    "keras.backend.clear_session()\n",
    "X_train.dtype"
   ]
  },
  {
   "cell_type": "code",
   "execution_count": 29,
   "metadata": {},
   "outputs": [
    {
     "name": "stdout",
     "output_type": "stream",
     "text": [
      "1719/1719 [==============================] - 4s 2ms/step - loss: 79462722046.2221 - accuracy: 0.4872 - val_loss: 2.3911 - val_accuracy: 0.1126\n"
     ]
    }
   ],
   "source": [
    "history = model.fit(X_train, y_train, epochs=1, validation_data = (X_valid, y_valid), callbacks=[exp_lr])"
   ]
  },
  {
   "cell_type": "code",
   "execution_count": 30,
   "metadata": {},
   "outputs": [
    {
     "data": {
      "text/plain": [
       "Text(0, 0.5, 'Funkcja straty')"
      ]
     },
     "execution_count": 30,
     "metadata": {},
     "output_type": "execute_result"
    },
    {
     "data": {
      "image/png": "[encoded data removed]",
      "text/plain": [
       "<Figure size 432x288 with 1 Axes>"
      ]
     },
     "metadata": {
      "needs_background": "light"
     },
     "output_type": "display_data"
    }
   ],
   "source": [
    "plt.plot(exp_lr.rates, exp_lr.losses)\n",
    "plt.gca().set_xscale('log')\n",
    "plt.hlines(min(exp_lr.losses), min(exp_lr.rates), max(exp_lr.rates))\n",
    "plt.axis([min(exp_lr.rates), max(exp_lr.rates), 0, exp_lr.losses[0]])\n",
    "plt.xlabel(\"Współczynnik uczenia\")\n",
    "plt.ylabel(\"Funkcja straty\")"
   ]
  },
  {
   "cell_type": "code",
   "execution_count": 31,
   "metadata": {},
   "outputs": [],
   "source": [
    "keras.backend.clear_session()\n",
    "np.random.seed(42)\n",
    "tf.random.set_seed(42)"
   ]
  },
  {
   "cell_type": "code",
   "execution_count": 32,
   "metadata": {},
   "outputs": [],
   "source": [
    "model = keras.models.Sequential([\n",
    "    keras.layers.Flatten(input_shape=[28, 28]),\n",
    "    keras.layers.Dense(300, activation=\"relu\"),\n",
    "    keras.layers.Dense(100, activation=\"relu\"),\n",
    "    keras.layers.Dense(10, activation=\"softmax\")\n",
    "])"
   ]
  },
  {
   "cell_type": "code",
   "execution_count": 33,
   "metadata": {},
   "outputs": [],
   "source": [
    "model.compile(loss=\"sparse_categorical_crossentropy\",\n",
    "              optimizer=keras.optimizers.SGD(lr=2e-1),\n",
    "              metrics=[\"accuracy\"])"
   ]
  },
  {
   "cell_type": "code",
   "execution_count": 34,
   "metadata": {},
   "outputs": [
    {
     "data": {
      "text/plain": [
       "'.\\\\moje_dzienniki_mnist\\\\przebieg_001'"
      ]
     },
     "execution_count": 34,
     "metadata": {},
     "output_type": "execute_result"
    }
   ],
   "source": [
    "run_index = 1 # zwiększa tę wartość w każdym przebiegu\n",
    "run_logdir = os.path.join(os.curdir, \"moje_dzienniki_mnist\", \"przebieg_{:03d}\".format(run_index))\n",
    "run_logdir"
   ]
  },
  {
   "cell_type": "code",
   "execution_count": 35,
   "metadata": {},
   "outputs": [
    {
     "name": "stdout",
     "output_type": "stream",
     "text": [
      "Epoch 1/200\n",
      "1719/1719 [==============================] - 4s 2ms/step - loss: 0.4178 - accuracy: 0.8704 - val_loss: 0.1022 - val_accuracy: 0.9696\n",
      "Epoch 2/200\n",
      "1719/1719 [==============================] - 3s 2ms/step - loss: 0.0948 - accuracy: 0.9709 - val_loss: 0.0895 - val_accuracy: 0.9752\n",
      "Epoch 3/200\n",
      "1719/1719 [==============================] - 3s 2ms/step - loss: 0.0652 - accuracy: 0.9793 - val_loss: 0.0687 - val_accuracy: 0.9806\n",
      "Epoch 4/200\n",
      "1719/1719 [==============================] - 3s 2ms/step - loss: 0.0433 - accuracy: 0.9857 - val_loss: 0.0798 - val_accuracy: 0.9772\n",
      "Epoch 5/200\n",
      "1719/1719 [==============================] - 3s 2ms/step - loss: 0.0335 - accuracy: 0.9889 - val_loss: 0.0750 - val_accuracy: 0.9802\n",
      "Epoch 6/200\n",
      "1719/1719 [==============================] - 3s 2ms/step - loss: 0.0245 - accuracy: 0.9919 - val_loss: 0.0741 - val_accuracy: 0.9788\n",
      "Epoch 7/200\n",
      "1719/1719 [==============================] - 3s 2ms/step - loss: 0.0176 - accuracy: 0.9943 - val_loss: 0.0857 - val_accuracy: 0.9786\n",
      "Epoch 8/200\n",
      "1719/1719 [==============================] - 3s 2ms/step - loss: 0.0124 - accuracy: 0.9962 - val_loss: 0.0821 - val_accuracy: 0.9804\n",
      "Epoch 9/200\n",
      "1719/1719 [==============================] - 3s 2ms/step - loss: 0.0105 - accuracy: 0.9969 - val_loss: 0.0866 - val_accuracy: 0.9814\n",
      "Epoch 10/200\n",
      "1719/1719 [==============================] - 3s 2ms/step - loss: 0.0070 - accuracy: 0.9978 - val_loss: 0.0764 - val_accuracy: 0.9820\n",
      "Epoch 11/200\n",
      "1719/1719 [==============================] - 3s 2ms/step - loss: 0.0053 - accuracy: 0.9985 - val_loss: 0.0738 - val_accuracy: 0.9864\n",
      "Epoch 12/200\n",
      "1719/1719 [==============================] - 3s 2ms/step - loss: 0.0013 - accuracy: 0.9998 - val_loss: 0.0757 - val_accuracy: 0.9860\n",
      "Epoch 13/200\n",
      "1719/1719 [==============================] - 3s 2ms/step - loss: 0.0015 - accuracy: 0.9995 - val_loss: 0.0714 - val_accuracy: 0.9858\n",
      "Epoch 14/200\n",
      "1719/1719 [==============================] - 2s 1ms/step - loss: 5.8905e-04 - accuracy: 1.0000 - val_loss: 0.0738 - val_accuracy: 0.9866\n",
      "Epoch 15/200\n",
      "1719/1719 [==============================] - 3s 2ms/step - loss: 2.5694e-04 - accuracy: 1.0000 - val_loss: 0.0763 - val_accuracy: 0.9868\n",
      "Epoch 16/200\n",
      "1719/1719 [==============================] - 3s 2ms/step - loss: 2.2786e-04 - accuracy: 1.0000 - val_loss: 0.0773 - val_accuracy: 0.9868\n",
      "Epoch 17/200\n",
      "1719/1719 [==============================] - 3s 2ms/step - loss: 1.8352e-04 - accuracy: 1.0000 - val_loss: 0.0787 - val_accuracy: 0.9870\n",
      "Epoch 18/200\n",
      "1719/1719 [==============================] - 3s 2ms/step - loss: 1.5058e-04 - accuracy: 1.0000 - val_loss: 0.0796 - val_accuracy: 0.9864\n",
      "Epoch 19/200\n",
      "1719/1719 [==============================] - 3s 2ms/step - loss: 1.5267e-04 - accuracy: 1.0000 - val_loss: 0.0798 - val_accuracy: 0.9866\n",
      "Epoch 20/200\n",
      "1719/1719 [==============================] - 3s 2ms/step - loss: 1.3620e-04 - accuracy: 1.0000 - val_loss: 0.0806 - val_accuracy: 0.9870\n",
      "Epoch 21/200\n",
      "1719/1719 [==============================] - 3s 2ms/step - loss: 1.2270e-04 - accuracy: 1.0000 - val_loss: 0.0809 - val_accuracy: 0.9868\n",
      "Epoch 22/200\n",
      "1719/1719 [==============================] - 3s 2ms/step - loss: 1.1997e-04 - accuracy: 1.0000 - val_loss: 0.0816 - val_accuracy: 0.9862\n",
      "Epoch 23/200\n",
      "1719/1719 [==============================] - 3s 2ms/step - loss: 1.1435e-04 - accuracy: 1.0000 - val_loss: 0.0823 - val_accuracy: 0.9866\n"
     ]
    }
   ],
   "source": [
    "early_stopping_cb = keras.callbacks.EarlyStopping(patience=20)\n",
    "checkpoint_cb = keras.callbacks.ModelCheckpoint(\"moj_model_mnist.h5\", save_best_only = True)\n",
    "tensorboard_cb = keras.callbacks.TensorBoard(run_logdir)\n",
    "\n",
    "history = model.fit(X_train, y_train, epochs=200, validation_data = (X_valid, y_valid), \n",
    "                    callbacks = [early_stopping_cb, checkpoint_cb, tensorboard_cb])"
   ]
  },
  {
   "cell_type": "code",
   "execution_count": 36,
   "metadata": {},
   "outputs": [],
   "source": [
    "model = keras.models.load_model(\"moj_model_mnist.h5\")"
   ]
  },
  {
   "cell_type": "code",
   "execution_count": 37,
   "metadata": {},
   "outputs": [
    {
     "name": "stdout",
     "output_type": "stream",
     "text": [
      "313/313 [==============================] - 0s 932us/step - loss: 0.0712 - accuracy: 0.9776\n"
     ]
    },
    {
     "data": {
      "text/plain": [
       "[0.07122038304805756, 0.9775999784469604]"
      ]
     },
     "execution_count": 37,
     "metadata": {},
     "output_type": "execute_result"
    }
   ],
   "source": [
    "model.evaluate(X_test, y_test)"
   ]
  },
  {
   "cell_type": "markdown",
   "metadata": {},
   "source": [
    "# Wykorzystanie architektury LeNet-5"
   ]
  },
  {
   "cell_type": "markdown",
   "metadata": {},
   "source": [
    "Serdecznie polecam wykorzystać środowisko Colab albo własną kartę graficzną (patrz: CUDA)"
   ]
  },
  {
   "cell_type": "code",
   "execution_count": 1,
   "metadata": {},
   "outputs": [],
   "source": [
    "import tensorflow as tf\n",
    "from tensorflow import keras\n",
    "import numpy as np"
   ]
  },
  {
   "cell_type": "code",
   "execution_count": 2,
   "metadata": {},
   "outputs": [],
   "source": [
    "(X_train, y_train), (X_test, y_test) = keras.datasets.mnist.load_data()\n",
    "X_train = X_train / 255.0\n",
    "X_test = X_test / 255.0\n",
    "X_train = tf.expand_dims(X_train, 3)\n",
    "X_test = tf.expand_dims(X_test, 3)\n",
    "X_val = X_train[:5000]\n",
    "y_val = y_train[:5000]"
   ]
  },
  {
   "cell_type": "code",
   "execution_count": 3,
   "metadata": {},
   "outputs": [],
   "source": [
    "lenet_5 = keras.models.Sequential([\n",
    "    keras.layers.Conv2D(6, kernel_size=5, strides=1,  activation='tanh', input_shape=train_x[0].shape, padding='same'),\n",
    "    keras.layers.AveragePooling2D(),\n",
    "    keras.layers.Conv2D(16, kernel_size=5, strides=1, activation='tanh', padding='valid'),\n",
    "    keras.layers.AveragePooling2D(),\n",
    "    keras.layers.Flatten(),\n",
    "    keras.layers.Dense(120, activation='tanh'),\n",
    "    keras.layers.Dense(84, activation='tanh'),\n",
    "    keras.layers.Dense(10, activation='softmax')\n",
    "])"
   ]
  },
  {
   "cell_type": "code",
   "execution_count": null,
   "metadata": {},
   "outputs": [],
   "source": [
    "lenet_5.compile(optimizer=\"adam\", loss=keras.losses.sparse_categorical_crossentropy, metrics=[\"accuracy\"])"
   ]
  },
  {
   "cell_type": "code",
   "execution_count": null,
   "metadata": {},
   "outputs": [],
   "source": [
    "early_stopping_cb = keras.callbacks.EarlyStopping(patience=5)\n",
    "lenet_5.fit(X_train, y_train, epochs=20, callbacks = [early_stopping_cb], validation_data=(X_val, y_val))"
   ]
  },
  {
   "cell_type": "code",
   "execution_count": null,
   "metadata": {},
   "outputs": [],
   "source": [
    "lenet_5.evaluate(X_test, y_test) #accuracy ~ 0.9868"
   ]
  }
 ],
 "metadata": {
  "kernelspec": {
   "display_name": "Python 3",
   "language": "python",
   "name": "python3"
  },
  "language_info": {
   "codemirror_mode": {
    "name": "ipython",
    "version": 3
   },
   "file_extension": ".py",
   "mimetype": "text/x-python",
   "name": "python",
   "nbconvert_exporter": "python",
   "pygments_lexer": "ipython3",
   "version": "3.8.5"
  }
 },
 "nbformat": 4,
 "nbformat_minor": 4
}
